{
 "cells": [
  {
   "cell_type": "markdown",
   "metadata": {},
   "source": [
    "## 1. Explanation of the overall purpose of the Numpy.Random Package"
   ]
  },
  {
   "cell_type": "markdown",
   "metadata": {},
   "source": []
  },
  {
   "cell_type": "code",
   "execution_count": null,
   "metadata": {},
   "outputs": [],
   "source": []
  },
  {
   "cell_type": "code",
   "execution_count": null,
   "metadata": {},
   "outputs": [],
   "source": []
  },
  {
   "cell_type": "code",
   "execution_count": null,
   "metadata": {},
   "outputs": [],
   "source": []
  },
  {
   "cell_type": "markdown",
   "metadata": {},
   "source": [
    "## 2. Explanation of the use of the “Simple random data” and “Permutations” functions."
   ]
  },
  {
   "cell_type": "code",
   "execution_count": null,
   "metadata": {},
   "outputs": [],
   "source": []
  },
  {
   "cell_type": "code",
   "execution_count": null,
   "metadata": {},
   "outputs": [],
   "source": []
  },
  {
   "cell_type": "code",
   "execution_count": null,
   "metadata": {},
   "outputs": [],
   "source": []
  },
  {
   "cell_type": "markdown",
   "metadata": {},
   "source": [
    "## 3. Explanation of the use and purpose of five “Distributions” functions."
   ]
  },
  {
   "cell_type": "code",
   "execution_count": null,
   "metadata": {},
   "outputs": [],
   "source": []
  },
  {
   "cell_type": "code",
   "execution_count": null,
   "metadata": {},
   "outputs": [],
   "source": []
  },
  {
   "cell_type": "code",
   "execution_count": null,
   "metadata": {},
   "outputs": [],
   "source": []
  },
  {
   "cell_type": "markdown",
   "metadata": {},
   "source": [
    "## 4. Explanation of the use of seeds in generating pseudorandom numbers."
   ]
  },
  {
   "cell_type": "markdown",
   "metadata": {},
   "source": [
    "Above we've discussed why random numbers are generated and through what mechanisms the data is distributed but how is the random data actually generated? A random seed specifies the start point when a computer generates a random number sequence. This can be any number, but it usually comes from seconds on a computer system’s clock. [6] We will limit this discussion to the two ways that numpy generates random numbers, the old version, The Mersenne Twister pseudo-random number generator, and the new version, PCG-64 pseudo-random number generator. "
   ]
  },
  {
   "cell_type": "markdown",
   "metadata": {},
   "source": [
    "The Mersenne Twister method was developed in 1997 by Makoto Matsumoto and Takuji Nishimura. At the time it was the most sophisticated method for generating random number sequences ever created. This new algorithm provided a period of 2^19937-1, a period being the amount of time before a sequence of numbers was repeated. [7]"
   ]
  },
  {
   "cell_type": "markdown",
   "metadata": {},
   "source": [
    "The Mersenne Twister method worked by using Merenne primes in the form 2^p - 1 where p itself is prime. The Mersenne Twister has p equal to 19937. The integer portion of the Mersenne twister algorithm does not involve any addition, subtraction, multiplication or division, all the operations are shifts, and's, or's, and xor's. All the elements of the state, except the last, are unsigned 32-bit random integers that form a cache which is carefully generated upon start-up. This generation is triggered by a seed, a single integer that initiates the whole process. The last element of the state is a pointer into the cache. Each request for a random integer causes an element to be withdrawn from the cache and the pointer incremented. The element is \"tempered\" with additional logical operations to improve the randomness. When the pointer reaches the end of the cache, the cache is refilled with another 623 elements. The parameters have been chosen so that the period is the Mersenne prime 2^19937-1. This period is much longer than any other random number generator proposed before. [8]"
   ]
  },
  {
   "cell_type": "markdown",
   "metadata": {},
   "source": [
    "However, over 20 years have passed since its inception and several deficiencies have become apparent, one being how predictable the method is, after 624 outputs, it is possible to completely predict its output.\n",
    "Another drawback is the amount of memory necessary to run the method, 2504 bytes of RAM — in contrast, an extremely usable generator with a huger than anyone can ever use period can fit in 8 bytes of RAM.\n",
    "Finally, to modern standards it is not considered particularly fast. [9]\n",
    "These shortcomings have led to newer methods replacing the Mersenne Twister as industry norms."
   ]
  },
  {
   "cell_type": "markdown",
   "metadata": {},
   "source": [
    "PCG-64 (Permuted congruential generator) was developed in 2014 by Melissa O'Neill, its characteristics are that it achieves excellent statistical performance with small and fast code, and small state size. [10] THis algorithm works off a period of 2^128"
   ]
  },
  {
   "cell_type": "markdown",
   "metadata": {},
   "source": [
    "Most RNGs use a very simple output functionwhere they just return the state as is, making them easily predictable. Some RNGs combine multiple simple RNGs and thus have an output function that just merges them together (e.g., with addition or xor). Again, this is a very simple output function that can be predicted.\n",
    "The PCG family uses a linear congruential generator as the state transition function. Linear congruential generators are known to be statistically weak, but PCG's state transition function only does half the work. Moreover, LCGs have number of very useful properties that make them a good choice.\n",
    "The second half of the work uses a new technique called permutation functions on tuples to produce output that is much more random than the RNG's internal state. PCG's output functions are what gives it its excellent statistical performance and makes it hard predict from its output and much more secure. [11]"
   ]
  },
  {
   "cell_type": "markdown",
   "metadata": {},
   "source": [
    "When we compare PCG-64 against other market leadering RNGs we learn that it is only the PCG class that passes the pratically random and U1 tests, while also having a relatively quick process speed. Thus, we can state with relative certainty of its superiority to the previously mentioned Merenne Twister method. In that it is not easily predicatble and can generate much more \"random\" number sequences. [12] The advantages of using the PCG-64 over the previously used Merenne Twister method make it clear as to why NUmpy replaced the older method in favour of a much more sophisticated model for generating random numbers."
   ]
  },
  {
   "cell_type": "markdown",
   "metadata": {},
   "source": [
    "[6] https://www.statisticshowto.com/random-seed-definition/#:~:text=A%20random%20seed%20is%20a,Henkemans%20%26%20Lee%2C%202001\n",
    "[7] http://www.math.sci.hiroshima-u.ac.jp/m-mat/MT/ARTICLES/mt.pdf\n",
    "[8] https://blogs.mathworks.com/cleve/2015/04/17/random-number-generator-mersenne-twister/\n",
    "[9] https://www.pcg-random.org/other-rngs.html\n",
    "[10] https://www.pcg-random.org/pdf/hmc-cs-2014-0905.pdf\n",
    "[11] https://www.pcg-random.org/index.html\n",
    "[12] https://lemire.me/blog/2017/08/22/testing-non-cryptographic-random-number-generators-my-results/"
   ]
  }
 ],
 "metadata": {
  "kernelspec": {
   "display_name": "Python 3",
   "language": "python",
   "name": "python3"
  },
  "language_info": {
   "codemirror_mode": {
    "name": "ipython",
    "version": 3
   },
   "file_extension": ".py",
   "mimetype": "text/x-python",
   "name": "python",
   "nbconvert_exporter": "python",
   "pygments_lexer": "ipython3",
   "version": "3.8.3"
  }
 },
 "nbformat": 4,
 "nbformat_minor": 4
}
