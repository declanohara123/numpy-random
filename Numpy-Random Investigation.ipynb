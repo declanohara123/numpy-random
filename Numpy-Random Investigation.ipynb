{
 "cells": [
  {
   "cell_type": "markdown",
   "metadata": {},
   "source": [
    "## 1. Explanation of the overall purpose of the Numpy.Random Package"
   ]
  },
  {
   "cell_type": "markdown",
   "metadata": {},
   "source": [
    "The primary purpose of the numpy.random package is to generate a set of \"random\" numbers. I put the word random in quotation marks as to say that it generates truly random numbers is incorrect. The package like all machines and computers cannot truly generate random numbers, it has however been designed to appear to the human eye that it can. They start with a random number, known as the seed, and then use an algorithm to generate a pseudo-random sequence of bits based on it. [1]"
   ]
  },
  {
   "cell_type": "markdown",
   "metadata": {},
   "source": [
    "Now, what we do with those numbers is a completely different thing. Through the package it is possible to graph and tabulate these random datasets into a wide arrange of statistical distributions, models, simulations, and to make random data reproducible. [2]"
   ]
  },
  {
   "cell_type": "markdown",
   "metadata": {},
   "source": [
    "## 2. Explanation of the use of the “Simple random data” and “Permutations” functions."
   ]
  },
  {
   "cell_type": "markdown",
   "metadata": {},
   "source": [
    "I will now demonstrate how the numpy.random package works; I shall do this by showing the differences between the simple random data function and the permutations functions."
   ]
  },
  {
   "cell_type": "markdown",
   "metadata": {},
   "source": [
    "We start by importing the numpy package as np.\n",
    "We then create a shortcut for the random generator and call it rng."
   ]
  },
  {
   "cell_type": "code",
   "execution_count": 1,
   "metadata": {},
   "outputs": [],
   "source": [
    "import numpy as np\n",
    "rng = np.random.default_rng()"
   ]
  },
  {
   "cell_type": "markdown",
   "metadata": {},
   "source": [
    "Once this is complete, we start by investigating the Integer command, in numpy simple random data.\n",
    "We run a simple process where we ask for any integer from the base of zero up to but not including the value of ten."
   ]
  },
  {
   "cell_type": "code",
   "execution_count": 2,
   "metadata": {},
   "outputs": [
    {
     "data": {
      "text/plain": [
       "0"
      ]
     },
     "execution_count": 2,
     "metadata": {},
     "output_type": "execute_result"
    }
   ],
   "source": [
    "rng.integers(10)"
   ]
  },
  {
   "cell_type": "markdown",
   "metadata": {},
   "source": [
    "We can confirm the command runs up to but does not include ten if we run the command again but this time, we set the limit to one."
   ]
  },
  {
   "cell_type": "code",
   "execution_count": 3,
   "metadata": {},
   "outputs": [
    {
     "data": {
      "text/plain": [
       "0"
      ]
     },
     "execution_count": 3,
     "metadata": {},
     "output_type": "execute_result"
    }
   ],
   "source": [
    "rng.integers(1)"
   ]
  },
  {
   "cell_type": "markdown",
   "metadata": {},
   "source": [
    "The output can only be zero and this confirms the limit is not included in the array of possible integers that are generated.\n",
    "The command will always take the number given as the maximum value not allowed and use zero as the min unless otherwise asked.\n"
   ]
  },
  {
   "cell_type": "markdown",
   "metadata": {},
   "source": [
    "We now move on to ask for an array of numbers, this is done by adding the \"size\" parameter.\n",
    "I will demonstrate how this works first with only a given \"high\" value, and then in a range by adding in a \"low\" value."
   ]
  },
  {
   "cell_type": "code",
   "execution_count": 4,
   "metadata": {},
   "outputs": [
    {
     "data": {
      "text/plain": [
       "array([2, 1, 4, 1, 7, 9, 5, 7, 7, 8], dtype=int64)"
      ]
     },
     "execution_count": 4,
     "metadata": {},
     "output_type": "execute_result"
    }
   ],
   "source": [
    "rng.integers(10, size=10)"
   ]
  },
  {
   "cell_type": "code",
   "execution_count": 5,
   "metadata": {},
   "outputs": [
    {
     "data": {
      "text/plain": [
       "array([11, 19, 16, 16, 17, 15, 18, 11, 15, 18], dtype=int64)"
      ]
     },
     "execution_count": 5,
     "metadata": {},
     "output_type": "execute_result"
    }
   ],
   "source": [
    "rng.integers(10, 20, size=10)"
   ]
  },
  {
   "cell_type": "markdown",
   "metadata": {},
   "source": [
    "We can see that none of the data from the first set has or will ever be repeated in the second set, as the first set of integers is generated using the parameters of any whole number between 0 and 9, while the second set of data has to be generated from numbers between 10 and 19.\n",
    "The high and low values can be named as such however the command will run without the names being given also."
   ]
  },
  {
   "cell_type": "markdown",
   "metadata": {},
   "source": [
    "We can now move on to how the data can be generated in different shapes.\n",
    "We can do this by adding another value to the size parameter."
   ]
  },
  {
   "cell_type": "code",
   "execution_count": 6,
   "metadata": {},
   "outputs": [
    {
     "data": {
      "text/plain": [
       "array([[0, 5, 2, 6, 9],\n",
       "       [1, 5, 7, 0, 4],\n",
       "       [1, 0, 2, 5, 8],\n",
       "       [0, 8, 8, 3, 7]], dtype=int64)"
      ]
     },
     "execution_count": 6,
     "metadata": {},
     "output_type": "execute_result"
    }
   ],
   "source": [
    "rng.integers(10, size=(4,5))"
   ]
  },
  {
   "cell_type": "markdown",
   "metadata": {},
   "source": [
    "This returns us a grid with random integers up to the value of 10, in a four down five across array."
   ]
  },
  {
   "cell_type": "markdown",
   "metadata": {},
   "source": [
    "We can also generate different numbers with different upper or lower limits. This is done by adding a chain of values in a square bracket either before or after a given value to signify the low or high values; as shown below."
   ]
  },
  {
   "cell_type": "code",
   "execution_count": 7,
   "metadata": {},
   "outputs": [
    {
     "data": {
      "text/plain": [
       "array([2, 5, 5], dtype=int64)"
      ]
     },
     "execution_count": 7,
     "metadata": {},
     "output_type": "execute_result"
    }
   ],
   "source": [
    "rng.integers(2, [5, 10, 15])"
   ]
  },
  {
   "cell_type": "code",
   "execution_count": 8,
   "metadata": {},
   "outputs": [
    {
     "data": {
      "text/plain": [
       "array([ 9, 16, 15], dtype=int64)"
      ]
     },
     "execution_count": 8,
     "metadata": {},
     "output_type": "execute_result"
    }
   ],
   "source": [
    "rng.integers([5, 10, 15], 20)"
   ]
  },
  {
   "cell_type": "markdown",
   "metadata": {},
   "source": [
    "Now that we've seen the basic actions possible, we can explore how we can use this command to generate and visualise large amounts of data."
   ]
  },
  {
   "cell_type": "code",
   "execution_count": 9,
   "metadata": {},
   "outputs": [],
   "source": [
    "import matplotlib.pyplot as plt"
   ]
  },
  {
   "cell_type": "markdown",
   "metadata": {},
   "source": [
    "We import matplotlib to generate visuals of the data."
   ]
  },
  {
   "cell_type": "code",
   "execution_count": 10,
   "metadata": {},
   "outputs": [
    {
     "data": {
      "text/plain": [
       "array([687, 446, 241, ..., 816, 122, 909], dtype=int64)"
      ]
     },
     "execution_count": 10,
     "metadata": {},
     "output_type": "execute_result"
    }
   ],
   "source": [
    "rng.integers(0, 1000, size=10000)"
   ]
  },
  {
   "cell_type": "markdown",
   "metadata": {},
   "source": [
    "When we try to generate a large amount of data, 10000 values, we get the above result. Not that we really want to look through all 10000 values, but if we plot it, it is possible to get a general view of the random numbers generated."
   ]
  },
  {
   "cell_type": "code",
   "execution_count": 11,
   "metadata": {},
   "outputs": [
    {
     "data": {
      "image/png": "[encoded data removed]",
      "text/plain": [
       "<Figure size 432x288 with 1 Axes>"
      ]
     },
     "metadata": {
      "needs_background": "light"
     },
     "output_type": "display_data"
    }
   ],
   "source": [
    "x = rng.integers(0, 1000, size=10000000)\n",
    "plt.hist(x)\n",
    "plt.show()"
   ]
  },
  {
   "cell_type": "markdown",
   "metadata": {},
   "source": [
    "We have now generated a range from 0 to 1000, with 10 million values in it. These values form almost a perfect square in the graph, showing that although the values generated are random they will all fall eventually begin to evenly fall into each of the automatically generated 10 bins."
   ]
  },
  {
   "cell_type": "markdown",
   "metadata": {},
   "source": [
    "The rng.integer command is handy if we need to generate a data set with a few or many thousands of whole numbers that can easily be used to graph for data analysis, however, what if we don't want the numbers to be whole?"
   ]
  },
  {
   "cell_type": "markdown",
   "metadata": {},
   "source": [
    "This is where the next function for simple random data comes in to play, the rng.random command."
   ]
  },
  {
   "cell_type": "markdown",
   "metadata": {},
   "source": [
    "I won't go through all the basics again as I have with the above command, but I will show that when give the command the same problem of picking a number between zero and one as we did above, with one being the highest and therefore excluded, the result that is given."
   ]
  },
  {
   "cell_type": "code",
   "execution_count": 12,
   "metadata": {},
   "outputs": [
    {
     "data": {
      "text/plain": [
       "0.7927443744171555"
      ]
     },
     "execution_count": 12,
     "metadata": {},
     "output_type": "execute_result"
    }
   ],
   "source": [
    "rng.random()"
   ]
  },
  {
   "cell_type": "markdown",
   "metadata": {},
   "source": [
    "This time instead of an integer we get a rational number, or a decimal. Thus, the key difference between the two commands.\n"
   ]
  },
  {
   "cell_type": "markdown",
   "metadata": {},
   "source": [
    "Again, we can ask for several random numbers to be generated by altering the size parameter. These numbers will all fall between the values of zero and one unless otherwise stated. We can also create tuples as shown in rng.integers. below."
   ]
  },
  {
   "cell_type": "code",
   "execution_count": 13,
   "metadata": {},
   "outputs": [
    {
     "data": {
      "text/plain": [
       "array([0.44279956, 0.79326003, 0.97963288, 0.69273706, 0.64555078,\n",
       "       0.49662584, 0.86645164, 0.15631831, 0.33672193, 0.96130122])"
      ]
     },
     "execution_count": 13,
     "metadata": {},
     "output_type": "execute_result"
    }
   ],
   "source": [
    "rng.random(10)"
   ]
  },
  {
   "cell_type": "code",
   "execution_count": 14,
   "metadata": {},
   "outputs": [
    {
     "data": {
      "text/plain": [
       "array([[0.02311206, 0.25863082, 0.86153993, 0.81788455],\n",
       "       [0.29898497, 0.88757643, 0.53175954, 0.02528075]])"
      ]
     },
     "execution_count": 14,
     "metadata": {},
     "output_type": "execute_result"
    }
   ],
   "source": [
    "rng.random((2, 4))"
   ]
  },
  {
   "cell_type": "markdown",
   "metadata": {},
   "source": [
    "The results will always be floating numbers from zero to one unless we multiply the command and give it a range. This is done using the formula (b-a) * random() + a. [3]"
   ]
  },
  {
   "cell_type": "markdown",
   "metadata": {},
   "source": [
    "I will now use it to generate and graph data as previously shown in the integers section."
   ]
  },
  {
   "cell_type": "code",
   "execution_count": 15,
   "metadata": {},
   "outputs": [
    {
     "data": {
      "image/png": "[encoded data removed]",
      "text/plain": [
       "<Figure size 432x288 with 1 Axes>"
      ]
     },
     "metadata": {
      "needs_background": "light"
     },
     "output_type": "display_data"
    }
   ],
   "source": [
    "x = rng.random(10000000)\n",
    "plt.hist(x)\n",
    "plt.show()"
   ]
  },
  {
   "cell_type": "markdown",
   "metadata": {},
   "source": [
    "Again, as above, we get almost a perfect square of values when we plot 10 million of them, except this time if we look at the bottom the range is from zero to one. We could of course have done this above by changing the range on the integer command, I'm just stressing how this is the norm for the random command."
   ]
  },
  {
   "cell_type": "markdown",
   "metadata": {},
   "source": [
    "The two commands for generating simple random data are quite similar in that they both allow the user to generate both small and vast amounts of random data to use in their statistical analyses. We will now move onto the next simple random data command that is choice."
   ]
  },
  {
   "cell_type": "markdown",
   "metadata": {},
   "source": [
    "Choice works differently to the other two in that we have deal with previously. Choice adds in the concept of probabilities, where we can alter or change the odds or certain results. We can change the probabilities of results by altering the \"P\" value, but, the P value also has to have the same amount of probabilities as the A value (A can be a value or as in the case shown below an array of values), and must always equal one. Example below."
   ]
  },
  {
   "cell_type": "code",
   "execution_count": 16,
   "metadata": {},
   "outputs": [
    {
     "data": {
      "image/png": "[encoded data removed]",
      "text/plain": [
       "<Figure size 432x288 with 1 Axes>"
      ]
     },
     "metadata": {
      "needs_background": "light"
     },
     "output_type": "display_data"
    }
   ],
   "source": [
    "coin = np.arange(start = 1, stop = 3)\n",
    "x = rng.choice(a = coin, size=1000000, p=[0.5, 0.5])\n",
    "plt.hist(x)\n",
    "plt.show()"
   ]
  },
  {
   "cell_type": "markdown",
   "metadata": {},
   "source": [
    "Here I have generated a simple process to graphically show the results when tossing a fair coin, the odds are exactly 50/50 for whether we get a heads or a tails, and I've installed a large enough sample (size of 1000000) to show that there are no biases to either result."
   ]
  },
  {
   "cell_type": "markdown",
   "metadata": {},
   "source": [
    "Now let us see what happens when we alter the odds in favour of one result to the other."
   ]
  },
  {
   "cell_type": "code",
   "execution_count": 17,
   "metadata": {},
   "outputs": [
    {
     "data": {
      "image/png": "[encoded data removed]",
      "text/plain": [
       "<Figure size 432x288 with 1 Axes>"
      ]
     },
     "metadata": {
      "needs_background": "light"
     },
     "output_type": "display_data"
    }
   ],
   "source": [
    "coin = np.arange(start = 1, stop = 3)\n",
    "x = rng.choice(a = coin, size=1000000, p=[0.75, 0.25])\n",
    "plt.hist(x)\n",
    "plt.show()"
   ]
  },
  {
   "cell_type": "markdown",
   "metadata": {},
   "source": [
    "For sake of argument we'll call one heads and say that now as I've altered the probabilities to 0.75 and 0.25 respectively, that we should see heads 75% of the time which we do from the graph. This is the main difference between the prior two simple random data generators, and the choice function, we can alter the probability of any given result to what is necessary. This makes the choice option good for say the odds you get an ace from randomly selecting a card from a deck or what side a dice will land on. [4]"
   ]
  },
  {
   "cell_type": "markdown",
   "metadata": {},
   "source": [
    "Now that we have covered simple random data generators we shall move onto the permutation functions in numpy. There are two different Permutation functions in the numpy package, the first being shuffle and then there is permutation. Shuffle works as such."
   ]
  },
  {
   "cell_type": "markdown",
   "metadata": {},
   "source": [
    "The shuffle function only has two parameters, x and axis, with x being the array of values and the axix, which is optional, which the position of the values can be altered using."
   ]
  },
  {
   "cell_type": "code",
   "execution_count": 18,
   "metadata": {},
   "outputs": [],
   "source": [
    "# rng.shuffle(10) reports an error when ran"
   ]
  },
  {
   "cell_type": "markdown",
   "metadata": {},
   "source": [
    "We see from running the command with only an integer it returns an error, because of this we will use a range of values denoted as \"ar\""
   ]
  },
  {
   "cell_type": "code",
   "execution_count": 19,
   "metadata": {},
   "outputs": [
    {
     "data": {
      "text/plain": [
       "array([6, 2, 5, 3, 1, 8, 0, 7, 4, 9])"
      ]
     },
     "execution_count": 19,
     "metadata": {},
     "output_type": "execute_result"
    }
   ],
   "source": [
    "ar = np.arange(10)\n",
    "rng.shuffle(ar)\n",
    "ar"
   ]
  },
  {
   "cell_type": "code",
   "execution_count": 20,
   "metadata": {},
   "outputs": [
    {
     "data": {
      "text/plain": [
       "array([[ 4,  5,  6,  7],\n",
       "       [ 0,  1,  2,  3],\n",
       "       [ 8,  9, 10, 11]])"
      ]
     },
     "execution_count": 20,
     "metadata": {},
     "output_type": "execute_result"
    }
   ],
   "source": [
    "ar = np.arange(12).reshape((3,4))\n",
    "rng.shuffle(ar)\n",
    "ar"
   ]
  },
  {
   "cell_type": "code",
   "execution_count": 21,
   "metadata": {},
   "outputs": [
    {
     "data": {
      "text/plain": [
       "array([[ 3,  1,  2,  0],\n",
       "       [ 7,  5,  6,  4],\n",
       "       [11,  9, 10,  8]])"
      ]
     },
     "execution_count": 21,
     "metadata": {},
     "output_type": "execute_result"
    }
   ],
   "source": [
    "ar = np.arange(12).reshape((3, 4))\n",
    "rng.shuffle(ar, axis=1)\n",
    "ar"
   ]
  },
  {
   "cell_type": "markdown",
   "metadata": {},
   "source": [
    "From the couple of examples above we see that shuffle, shuffles multidimensional arrays by row only, keeping the column order unchanged. [5]"
   ]
  },
  {
   "cell_type": "code",
   "execution_count": 22,
   "metadata": {},
   "outputs": [
    {
     "data": {
      "text/plain": [
       "array([5, 7, 2, 1, 8, 6, 9, 0, 4, 3])"
      ]
     },
     "execution_count": 22,
     "metadata": {},
     "output_type": "execute_result"
    }
   ],
   "source": [
    "rng.permutation(10)"
   ]
  },
  {
   "cell_type": "markdown",
   "metadata": {},
   "source": [
    "This time when we run the command with an integer it gives us a range of values in a random order."
   ]
  },
  {
   "cell_type": "code",
   "execution_count": 23,
   "metadata": {},
   "outputs": [
    {
     "data": {
      "text/plain": [
       "array([[11,  9, 10,  8],\n",
       "       [ 3,  1,  2,  0],\n",
       "       [ 7,  5,  6,  4]])"
      ]
     },
     "execution_count": 23,
     "metadata": {},
     "output_type": "execute_result"
    }
   ],
   "source": [
    "rng.permutation(ar)"
   ]
  },
  {
   "cell_type": "code",
   "execution_count": 24,
   "metadata": {},
   "outputs": [
    {
     "data": {
      "text/plain": [
       "array([[ 2,  1,  0,  3],\n",
       "       [ 6,  5,  4,  7],\n",
       "       [10,  9,  8, 11]])"
      ]
     },
     "execution_count": 24,
     "metadata": {},
     "output_type": "execute_result"
    }
   ],
   "source": [
    "rng.permutation(ar, axis=1)"
   ]
  },
  {
   "cell_type": "markdown",
   "metadata": {},
   "source": [
    "The shuffle and parameter commands perform the same actions when asked to handle the date \"ar\", however, as shown above, when given an integer permutation can return a range of the values in a random order. [6]"
   ]
  },
  {
   "cell_type": "markdown",
   "metadata": {},
   "source": [
    "The simple random data functions can create data whether in large or small quantities that can then be used for any function of data analysis. The permutation functions are better suited to taking data we already have generated and then ordering and shuffling that data to analyse."
   ]
  },
  {
   "cell_type": "markdown",
   "metadata": {},
   "source": [
    "## 3. Explanation of the use and purpose of five “Distributions” functions."
   ]
  },
  {
   "cell_type": "markdown",
   "metadata": {},
   "source": [
    "### Binomial Function"
   ]
  },
  {
   "cell_type": "markdown",
   "metadata": {},
   "source": [
    "We will start with the Binomial function. The function works with the form of rng.binomial(n, p, size=None), with N the integer or array (if it is a float it will be truncated to an integer), p being the float or array of floats, this number has to be between zero and one, and then the size, an integer or tuple of integers. I'll show a few small examples below."
   ]
  },
  {
   "cell_type": "code",
   "execution_count": 25,
   "metadata": {},
   "outputs": [
    {
     "data": {
      "text/plain": [
       "0"
      ]
     },
     "execution_count": 25,
     "metadata": {},
     "output_type": "execute_result"
    }
   ],
   "source": [
    "# asking for a random number bewteen one and 10, weighted towards 0.1 (1)\n",
    "rng.binomial(10, 0.1)"
   ]
  },
  {
   "cell_type": "code",
   "execution_count": 26,
   "metadata": {},
   "outputs": [
    {
     "data": {
      "text/plain": [
       "4"
      ]
     },
     "execution_count": 26,
     "metadata": {},
     "output_type": "execute_result"
    }
   ],
   "source": [
    "# asking for a random number bewteen one and 10, weighted towards 0.5 (5)\n",
    "rng.binomial(10, 0.5)"
   ]
  },
  {
   "cell_type": "code",
   "execution_count": 27,
   "metadata": {},
   "outputs": [
    {
     "data": {
      "text/plain": [
       "9"
      ]
     },
     "execution_count": 27,
     "metadata": {},
     "output_type": "execute_result"
    }
   ],
   "source": [
    "# asking for a random number bewteen one and 10, weighted towards 0.9 (9)\n",
    "rng.binomial(10, 0.9)"
   ]
  },
  {
   "cell_type": "markdown",
   "metadata": {},
   "source": [
    "We can see that the probability has a huge effect on the outcome the random number generator emits. This can be stressed even further when we ask for more data, this time I will ask for ten numbers between one and ten under the same n and p parameters."
   ]
  },
  {
   "cell_type": "code",
   "execution_count": 28,
   "metadata": {},
   "outputs": [
    {
     "data": {
      "text/plain": [
       "array([0, 0, 1, 0, 1, 2, 2, 0, 1, 0], dtype=int64)"
      ]
     },
     "execution_count": 28,
     "metadata": {},
     "output_type": "execute_result"
    }
   ],
   "source": [
    "# asking for a random number bewteen one and 10, weighted towards 0.1 (1)\n",
    "rng.binomial(10, 0.1, 10)"
   ]
  },
  {
   "cell_type": "code",
   "execution_count": 29,
   "metadata": {},
   "outputs": [
    {
     "data": {
      "text/plain": [
       "array([5, 4, 5, 4, 5, 5, 3, 4, 5, 7], dtype=int64)"
      ]
     },
     "execution_count": 29,
     "metadata": {},
     "output_type": "execute_result"
    }
   ],
   "source": [
    "# asking for a random number bewteen one and 10, weighted towards 0.5 (5)\n",
    "rng.binomial(10, 0.5, 10)"
   ]
  },
  {
   "cell_type": "code",
   "execution_count": 30,
   "metadata": {},
   "outputs": [
    {
     "data": {
      "text/plain": [
       "array([ 8,  8,  9, 10,  9, 10, 10,  9,  8, 10], dtype=int64)"
      ]
     },
     "execution_count": 30,
     "metadata": {},
     "output_type": "execute_result"
    }
   ],
   "source": [
    "# asking for a random number bewteen one and 10, weighted towards 0.9 (9)\n",
    "rng.binomial(10, 0.9, 10)"
   ]
  },
  {
   "cell_type": "markdown",
   "metadata": {},
   "source": [
    "The results become even more clearly weighted than before. As a final example of the binomial method, I'm going to show how the probability will affect the result when asked for one million results from zero to one hundred and I will plot each result on a histogram to easily examine the results."
   ]
  },
  {
   "cell_type": "code",
   "execution_count": 31,
   "metadata": {},
   "outputs": [
    {
     "data": {
      "image/png": "[encoded data removed]",
      "text/plain": [
       "<Figure size 432x288 with 1 Axes>"
      ]
     },
     "metadata": {
      "needs_background": "light"
     },
     "output_type": "display_data"
    }
   ],
   "source": [
    "x = rng.binomial(100, 0.1, 1000000)\n",
    "plt.hist(x, bins=100)\n",
    "plt.show()"
   ]
  },
  {
   "cell_type": "code",
   "execution_count": 32,
   "metadata": {},
   "outputs": [
    {
     "data": {
      "image/png": "[encoded data removed]",
      "text/plain": [
       "<Figure size 432x288 with 1 Axes>"
      ]
     },
     "metadata": {
      "needs_background": "light"
     },
     "output_type": "display_data"
    }
   ],
   "source": [
    "x = rng.binomial(100, 0.5, 1000000)\n",
    "plt.hist(x, bins=100)\n",
    "plt.show()"
   ]
  },
  {
   "cell_type": "code",
   "execution_count": 33,
   "metadata": {},
   "outputs": [
    {
     "data": {
      "image/png": "[encoded data removed]",
      "text/plain": [
       "<Figure size 432x288 with 1 Axes>"
      ]
     },
     "metadata": {
      "needs_background": "light"
     },
     "output_type": "display_data"
    }
   ],
   "source": [
    "x = rng.binomial(100, 0.9, 1000000)\n",
    "plt.hist(x, bins=100)\n",
    "plt.show()"
   ]
  },
  {
   "cell_type": "markdown",
   "metadata": {},
   "source": [
    "This gives us a much clearest example thus far that the probability greatly effects the results. In the first of the three histograms where the results are weighted towards 10 (0.1) the largest peaks can be seen at the number ten, and the corresponding third histogram where results are weighted at 90 (0.9) has the largest peak at 90 as expected.\n",
    "The most interesting however is the middle image where it is weighted exactly halfway between the upper and lower limits. This image is what we think of when we hear binomial distribution in statistics. It is described as a distribution that has two possible outcomes (prefix \"bi\" means two or twice), for example a coin toss or a pass/fail exam. [7] The binomial distribution is frequently used to model the number of successes in a sample of size n drawn with replacement from a population of size N."
   ]
  },
  {
   "cell_type": "markdown",
   "metadata": {},
   "source": [
    "We will now use this information in another example where we can determine the odds of finding oil in an excavation dig; [8]"
   ]
  },
  {
   "cell_type": "code",
   "execution_count": 34,
   "metadata": {},
   "outputs": [
    {
     "data": {
      "text/plain": [
       "0.3169"
      ]
     },
     "execution_count": 34,
     "metadata": {},
     "output_type": "execute_result"
    }
   ],
   "source": [
    "# The company digs 15 times in search for oil\n",
    "n = 15\n",
    "\n",
    "# It is predetermined there is a 7.5% chance of finding oil at any of these sites\n",
    "p = 0.075\n",
    "\n",
    "# We will run the simulation 10,000 times to see what the odds of finding oil are\n",
    "size = 10000\n",
    "\n",
    "sum(rng.binomial(n, p , size) == 0)/10000"
   ]
  },
  {
   "cell_type": "markdown",
   "metadata": {},
   "source": [
    "The result we get is that there is roughly a 31% chance of them finding oil in one of the 15 dig sites."
   ]
  },
  {
   "cell_type": "markdown",
   "metadata": {},
   "source": [
    "The binomial function on numpy allows us to generate and determine odds against a binomial distribution, or in other words, the likelihood of a yes, no answer in a given situation."
   ]
  },
  {
   "cell_type": "markdown",
   "metadata": {},
   "source": [
    "### Exponential Function"
   ]
  },
  {
   "cell_type": "markdown",
   "metadata": {},
   "source": [
    "We shall now discuss the exponential function of numpy. The function works in the formula rng.exponential(scale=1.0m size=None), with scale being a float or an array and must be non-negative, size can be an integer or a tuple of integers."
   ]
  },
  {
   "cell_type": "code",
   "execution_count": 35,
   "metadata": {},
   "outputs": [
    {
     "data": {
      "text/plain": [
       "array([[0.29016343, 0.1069389 , 0.07156807],\n",
       "       [7.64029639, 3.89399327, 3.88733959]])"
      ]
     },
     "execution_count": 35,
     "metadata": {},
     "output_type": "execute_result"
    }
   ],
   "source": [
    "rng.exponential(2, size=(2,3))"
   ]
  },
  {
   "cell_type": "markdown",
   "metadata": {},
   "source": [
    "Exponential distribution is used for describing time till next event e.g. failure/success etc.\n",
    "\n",
    "It has two parameters:\n",
    "\n",
    "scale - inverse of rate\n",
    "\n",
    "size - The shape of the returned array"
   ]
  },
  {
   "cell_type": "code",
   "execution_count": 36,
   "metadata": {},
   "outputs": [
    {
     "name": "stdout",
     "output_type": "stream",
     "text": [
      "[[1.20076028 0.30542575 5.02868014]\n",
      " [0.13542482 1.95574848 6.91483972]]\n"
     ]
    }
   ],
   "source": [
    "x = rng.exponential(scale=2, size=(2, 3))\n",
    "\n",
    "print(x)"
   ]
  },
  {
   "cell_type": "code",
   "execution_count": 37,
   "metadata": {},
   "outputs": [
    {
     "data": {
      "image/png": "[encoded data removed]",
      "text/plain": [
       "<Figure size 432x288 with 1 Axes>"
      ]
     },
     "metadata": {
      "needs_background": "light"
     },
     "output_type": "display_data"
    }
   ],
   "source": [
    "x = rng.exponential(size=1000)\n",
    "\n",
    "plt.hist(x)\n",
    "plt.show()\n",
    "\n",
    "#[9]"
   ]
  },
  {
   "cell_type": "markdown",
   "metadata": {},
   "source": [
    "We can see from visually graphing the exponential distribution that as time increases along the x axis the chance of the event occurring becomes less and less likely while between zero and one units the odds of the event happening are significant. The key point to know is the exponential distribution covers events which occur continuously and independently at a constant average rate. [10]"
   ]
  },
  {
   "cell_type": "markdown",
   "metadata": {},
   "source": [
    "### F function"
   ]
  },
  {
   "cell_type": "markdown",
   "metadata": {},
   "source": [
    "The F function is used to create an F distribution in numpy. F distributions are associated with a unique cumulative probability, this cumulative probability represents the likelihood of the f statistic is less than or equal to a specified value. We can use the f distribution to determine the probability of a set of events occurring. [11]"
   ]
  },
  {
   "cell_type": "markdown",
   "metadata": {},
   "source": [
    "In numpy the F function is used in the form rng.f(dfnum, dfden, size=None), with dfnum and dfden both being a float or array with a value above zero and size being an integer or tuple of integers and is optional.\n",
    "I'll carry out some examples below."
   ]
  },
  {
   "cell_type": "code",
   "execution_count": 38,
   "metadata": {},
   "outputs": [
    {
     "data": {
      "image/png": "[encoded data removed]",
      "text/plain": [
       "<Figure size 432x288 with 1 Axes>"
      ]
     },
     "metadata": {
      "needs_background": "light"
     },
     "output_type": "display_data"
    }
   ],
   "source": [
    "x = rng.f(1, 10, 100000)\n",
    "plt.hist(x, bins = 50)\n",
    "plt.show()"
   ]
  },
  {
   "cell_type": "markdown",
   "metadata": {},
   "source": [
    "When we do a simple analysis of what the outcome would be, we put the dfnum down as 1, the dfden as 10 and run the simulation 100000 times. We then plot this using a histogram. The result shows us a failry standard F table for results, with it starting from zero and rising very quickly until it peaks at roughly 1, before quickly depreciating in values but can continue on with the largest number coming in at roughly 50 in the one I've ran.\n",
    "This is the equivalent of saying that the probability of something happening is very high to begin with but as time goes on the likelihood diminishes quickly until there is close to zero chance of it occurring."
   ]
  },
  {
   "cell_type": "code",
   "execution_count": 39,
   "metadata": {},
   "outputs": [
    {
     "data": {
      "image/png": "[encoded data removed]",
      "text/plain": [
       "<Figure size 432x288 with 1 Axes>"
      ]
     },
     "metadata": {
      "needs_background": "light"
     },
     "output_type": "display_data"
    }
   ],
   "source": [
    "dfnum = 1. # between group degrees of freedom\n",
    "dfden = 48. # within groups degrees of freedom\n",
    "s = np.random.default_rng().f(dfnum, dfden, 1000)\n",
    "plt.hist(s)\n",
    "plt.show()"
   ]
  },
  {
   "cell_type": "code",
   "execution_count": 40,
   "metadata": {},
   "outputs": [
    {
     "data": {
      "text/plain": [
       "7.436786576325274"
      ]
     },
     "execution_count": 40,
     "metadata": {},
     "output_type": "execute_result"
    }
   ],
   "source": [
    "np.sort(s)[-10]"
   ]
  },
  {
   "cell_type": "markdown",
   "metadata": {},
   "source": [
    "Above is a working example of how the F distribution can be used in determining an outcome. [12]  From the result above ,that came out at 7.32 for me, we can state that only 1% of all values lay after that 7.32. In the question, which I have placed in its entirety below, their result was 36.01, meaning that their hypothesis was false based on our results."
   ]
  },
  {
   "cell_type": "markdown",
   "metadata": {},
   "source": [
    "Two groups, children of diabetics (25 people) and children from people without diabetes (25 controls). Fasting blood glucose was measured, case group had a mean value of 86.1, controls had a mean value of 82.2. Standard deviations were 2.09 and 2.49 respectively. Are these data consistent with the null hypothesis that the parent's diabetic status does not affect their children’s blood glucose levels? Calculating the F statistic from the data gives a value of 36.01."
   ]
  },
  {
   "cell_type": "markdown",
   "metadata": {},
   "source": [
    "### Geometric Function"
   ]
  },
  {
   "cell_type": "markdown",
   "metadata": {},
   "source": [
    "A geometric function is one that represents the number of failures before you get a success. For example, you ask people outside a polling station who they voted for until you find someone that voted for your chosen candidate in a local election. The geometric distribution would represent the number of people who you had to poll before you found someone who voted for your candidate. If you had to ask 3 people, then x=3 , there would be X-1 failures before you get your success. If X=n, it means you succeeded on the nth try and failed for n-1 tries. The probability of failing on your first try is 1-p. For example, if p = 0.2 then your probability of success is .2 and your probability of failure is 1 – 0.2 = 0.8. These successes or failures are independent of each other and this the probabilities can be multiplied together. [13]"
   ]
  },
  {
   "cell_type": "code",
   "execution_count": 41,
   "metadata": {},
   "outputs": [
    {
     "data": {
      "text/plain": [
       "0.3333333333333333"
      ]
     },
     "execution_count": 41,
     "metadata": {},
     "output_type": "execute_result"
    }
   ],
   "source": [
    "# Example of the above scenario;\n",
    "# p being the probability and size the sample size of voters\n",
    "\n",
    "x = rng.geometric(p= 0.2, size = 3)\n",
    "(x == 1).sum()/3"
   ]
  },
  {
   "cell_type": "markdown",
   "metadata": {},
   "source": [
    "The results possible are 1.0, 0.666, 0.333, or 0. If you run it a few times you will more than likely get zero the majority and then 0.333 occasionally but rarely will you get 0.666 or 1.0, this is because the probability of these events occurring are very small. I will now show the geometrical distribution graphically with a different example."
   ]
  },
  {
   "cell_type": "code",
   "execution_count": 42,
   "metadata": {},
   "outputs": [
    {
     "data": {
      "image/png": "[encoded data removed]",
      "text/plain": [
       "<Figure size 432x288 with 1 Axes>"
      ]
     },
     "metadata": {
      "needs_background": "light"
     },
     "output_type": "display_data"
    }
   ],
   "source": [
    "x = rng.geometric(0.01, 100000)\n",
    "plt.hist(x, bins = 100)\n",
    "plt.show()"
   ]
  },
  {
   "cell_type": "markdown",
   "metadata": {},
   "source": [
    "This is simply an example of 100000 events happening at the probability of 0.01, or 1% chance of succeeding. For the most part we get a smooth curve starting with a peak on the left and gradually decreasing all the way to the right. The geometric distribution is the only discrete memoryless random distribution. The geometric distribution is useful for determining the likelihood of a success given a limited number of trials, which is highly applicable to the real world in which unlimited trials are rare. Therefore, it is unsurprising that a variety of scenarios are modelled well by geometric distributions such as baseball, whether a batter hits the ball before three strikes are accumulated, or cost-benefit analyses, such as a company deciding whether to fund research trials for a new vaccine. Using geometric distributions, we can model the probability of these events. [14]"
   ]
  },
  {
   "cell_type": "markdown",
   "metadata": {},
   "source": [
    "### Poisson Function"
   ]
  },
  {
   "cell_type": "markdown",
   "metadata": {},
   "source": [
    "The Poisson function is typically used to determine the number of times an event happened in a time interval. These events are either positive or negative outcomes but rather than focus on the results like in binomial distribution Poisson distribution focuses on the occurrence of the results over time. For example, binomial would care how many fans walking into a stadium out of a section of 50 were from county A, whereas Poisson would merely care how many fans walked into that section over a time interval. [15]"
   ]
  },
  {
   "cell_type": "markdown",
   "metadata": {},
   "source": [
    "The Poisson function in numpy works by the following formula; rng.poisson(lam=1.0, size=None), with lam being a float or array of floats all must be greater than zero and size being the number of samples in the sequence. Below is an example to form a standard Poisson Distribution."
   ]
  },
  {
   "cell_type": "code",
   "execution_count": 43,
   "metadata": {},
   "outputs": [
    {
     "data": {
      "image/png": "[encoded data removed]",
      "text/plain": [
       "<Figure size 432x288 with 1 Axes>"
      ]
     },
     "metadata": {
      "needs_background": "light"
     },
     "output_type": "display_data"
    }
   ],
   "source": [
    "x = rng.poisson(10, size=1000000)\n",
    "plt.hist(x, bins = 100)\n",
    "plt.show()"
   ]
  },
  {
   "cell_type": "markdown",
   "metadata": {},
   "source": [
    "The Poisson distribution can be used to count the number of occurrences of an event in each unit of time, distance, area or volume. If the events occur independently and the probability of an event occurs in a given length of time and does not change through the number of events in a fixed amount of time, then the information will follow a Poisson distribution."
   ]
  },
  {
   "cell_type": "markdown",
   "metadata": {},
   "source": [
    "## 4. Explanation of the use of seeds in generating pseudorandom numbers."
   ]
  },
  {
   "cell_type": "markdown",
   "metadata": {},
   "source": [
    "Above we have discussed why random numbers are generated and through what mechanisms the data is distributed but how is the random data actually generated? A random seed specifies the start point when a computer generates a random number sequence. This can be any number, but it usually comes from seconds on a computer system’s clock. [16] We will limit this discussion to the two ways that numpy generates random numbers, the old version, The Mersenne Twister pseudo-random number generator, and the new version, PCG-64 pseudo-random number generator. "
   ]
  },
  {
   "cell_type": "markdown",
   "metadata": {},
   "source": [
    "The Mersenne Twister method was developed in 1997 by Makoto Matsumoto and Takuji Nishimura. At the time it was the most sophisticated method for generating random number sequences ever created. This new algorithm provided a period of 2^19937-1, a period being the amount of time before a sequence of numbers was repeated. [17]"
   ]
  },
  {
   "cell_type": "markdown",
   "metadata": {},
   "source": [
    "The Mersenne Twister method worked by using Merenne primes in the form 2^p - 1 where p itself is prime. The Mersenne Twister has p equal to 19937. The integer portion of the Mersenne twister algorithm does not involve any addition, subtraction, multiplication or division, all the operations are shifts, and's, or's, and xor's. All the elements of the state, except the last, are unsigned 32-bit random integers that form a cache which is carefully generated upon start-up. This generation is triggered by a seed, a single integer that initiates the whole process. The last element of the state is a pointer into the cache. Each request for a random integer causes an element to be withdrawn from the cache and the pointer incremented. The element is \"tempered\" with additional logical operations to improve the randomness. When the pointer reaches the end of the cache, the cache is refilled with another 623 elements. The parameters have been chosen so that the period is the Mersenne prime 2^19937-1. This period is much longer than any other random number generator proposed before. [18]"
   ]
  },
  {
   "cell_type": "markdown",
   "metadata": {},
   "source": [
    "However, over 20 years have passed since its inception and several deficiencies have become apparent, one being how predictable the method is, after 624 outputs, it is possible to completely predict its output.\n",
    "Another drawback is the amount of memory necessary to run the method, 2504 bytes of RAM — in contrast, an extremely usable generator with a huger than anyone can ever use period can fit in 8 bytes of RAM.\n",
    "Finally, to modern standards it is not considered particularly fast. [19]\n",
    "These shortcomings have led to newer methods replacing the Mersenne Twister as industry norms."
   ]
  },
  {
   "cell_type": "markdown",
   "metadata": {},
   "source": [
    "PCG-64 (Permuted congruential generator) was developed in 2014 by Melissa O'Neill, its characteristics are that it achieves excellent statistical performance with small and fast code, and small state size. [20] This algorithm works off a period of 2^128"
   ]
  },
  {
   "cell_type": "markdown",
   "metadata": {},
   "source": [
    "Most RNGs use a very simple output function where they just return the state as is, making them easily predictable. Some RNGs combine multiple simple RNGs and thus have an output function that just merges them together (e.g., with addition or xor). Again, this is a very simple output function that can be predicted.\n",
    "The PCG family uses a linear congruential generator as the state transition function. Linear congruential generators are known to be statistically weak, but PCG's state transition function only does half the work. Moreover, LCGs have number of very useful properties that make them a good choice.\n",
    "The second half of the work uses a new technique called permutation functions on tuples to produce output that is much more random than the RNG's internal state. PCG's output functions are what gives it its excellent statistical performance and makes it hard predict from its output and much more secure. [21]"
   ]
  },
  {
   "cell_type": "markdown",
   "metadata": {},
   "source": [
    "Seeds are then used by both these programmes to select where the random data will be generated, and this is how they differ with regard their ranges. The starting point can be randomly assigned by just hitting start or we can choose to have repeatable random data by selecting a given seed by stating what number we want to start the random number generator on. If we want to re-run the data further on in the code, we merely repeat the seed number and we will be given the same random data."
   ]
  },
  {
   "cell_type": "markdown",
   "metadata": {},
   "source": [
    "When we compare PCG-64 against other market leading RNGs we learn that it is only the PCG class that passes the practically random and U1 tests, while also having a relatively quick process speed. Thus, we can state with relative certainty of its superiority to the previously mentioned Merenne Twister method. In that it is not easily predicatable and can generate much more \"random\" number sequences. [12] The advantages of using the PCG-64 over the previously used Merenne Twister method make it clear as to why Numpy replaced the older method in favour of a much more sophisticated model for generating random numbers."
   ]
  },
  {
   "cell_type": "markdown",
   "metadata": {},
   "source": [
    "[1] https://docs.microsoft.com/en-us/windows/win32/api/wincrypt/nf-wincrypt-cryptgenrandom?redirectedfrom=MSDN\n",
    "\n",
    "[2] https://realpython.com/python-random/\n",
    "\n",
    "[3] https://numpy.org/doc/stable/reference/random/generated/numpy.random.Generator.random.html#numpy.random.Generator.random\n",
    "\n",
    "[4] https://www.sharpsightlabs.com/blog/numpy-random-choice/\n",
    "\n",
    "[5] https://moonbooks.org/Articles/How-to-randomly-shuffle-an-array-in-python-using-numpy/\n",
    "\n",
    "[6] https://stackoverflow.com/questions/15474159/shuffle-vs-permute-numpy#:~:text=shuffle(x)%20can%20permute%20the,numpy.&text=permutation(x)%20actually%20returns%20a,original%20data%20is%20not%20changed.\n",
    "\n",
    "[7] https://www.statisticshowto.com/probability-and-statistics/binomial-theorem/binomial-distribution-formula/\n",
    "\n",
    "[8] https://numpy.org/doc/stable/reference/random/generated/numpy.random.Generator.binomial.html#numpy.random.Generator.binomial\n",
    "\n",
    "[9] https://www.geeksforgeeks.org/numpy-random-exponential-in-python/\n",
    "\n",
    "[10] https://wtmatter.com/numpy-exponential-distribution/\n",
    "\n",
    "[11] https://magoosh.com/statistics/f-distribution-explained/\n",
    "\n",
    "[12] Glantz, Stanton A. “Primer of Biostatistics.”, McGraw-Hill, Fifth Edition, 2002.\n",
    "\n",
    "[13] https://www.statisticshowto.com/geometric-distribution/\n",
    "\n",
    "[14] https://brilliant.org/wiki/geometric-distribution/\n",
    "\n",
    "[15] https://www.onlinemathlearning.com/poisson-distribution.html#:~:text=a%20Poisson%20distribution.-,Example%3A,will%20follow%20a%20Poisson%20distribution.\n",
    "\n",
    "[16] https://www.statisticshowto.com/random-seed-definition/#:~:text=A%20random%20seed%20is%20a,Henkemans%20%26%20Lee%2C%202001\n",
    "\n",
    "[17] http://www.math.sci.hiroshima-u.ac.jp/m-mat/MT/ARTICLES/mt.pdf\n",
    "\n",
    "[18] https://blogs.mathworks.com/cleve/2015/04/17/random-number-generator-mersenne-twister/\n",
    "\n",
    "[19] https://www.pcg-random.org/other-rngs.html\n",
    "\n",
    "[20] https://www.pcg-random.org/pdf/hmc-cs-2014-0905.pdf\n",
    "\n",
    "[21] https://www.pcg-random.org/index.html\n",
    "\n",
    "[22] https://lemire.me/blog/2017/08/22/testing-non-cryptographic-random-number-generators-my-results/"
   ]
  }
 ],
 "metadata": {
  "kernelspec": {
   "display_name": "Python 3",
   "language": "python",
   "name": "python3"
  },
  "language_info": {
   "codemirror_mode": {
    "name": "ipython",
    "version": 3
   },
   "file_extension": ".py",
   "mimetype": "text/x-python",
   "name": "python",
   "nbconvert_exporter": "python",
   "pygments_lexer": "ipython3",
   "version": "3.8.3"
  }
 },
 "nbformat": 4,
 "nbformat_minor": 4
}
