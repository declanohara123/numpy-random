{
 "cells": [
  {
   "cell_type": "markdown",
   "metadata": {},
   "source": [
    "## 1. Explanation of the overall purpose of the Numpy.Random Package"
   ]
  },
  {
   "cell_type": "markdown",
   "metadata": {},
   "source": [
    "THe primary purpose of the numpy.random package is to generate a set of \"random\"numbers. I put the word random in quotation marks there as to say that it generates truly random numbers is incorrect. The package like all machines and computers can't truly generate random numbers, it has however been designed ot appear to the human eye that it can. They start with a random number, known as the seed, and then use an algorithm to generate a pseudo-random sequence of bits based on it. [1]"
   ]
  },
  {
   "cell_type": "markdown",
   "metadata": {},
   "source": [
    "Now, what we do with those numbers is a completely different thing. Throught the package it is possible to graph and tabulate these random datasets into a wide arrange of statistical distributions, models, simulations, and to make random data reproducible. [2]"
   ]
  },
  {
   "cell_type": "code",
   "execution_count": null,
   "metadata": {},
   "outputs": [],
   "source": []
  },
  {
   "cell_type": "markdown",
   "metadata": {},
   "source": [
    "## 2. Explanation of the use of the “Simple random data” and “Permutations” functions."
   ]
  },
  {
   "cell_type": "markdown",
   "metadata": {},
   "source": [
    "I will now demonstrate how the numpy.random package works; I shall do this by showing the differences between the simple random data function and the permutations functions."
   ]
  },
  {
   "cell_type": "markdown",
   "metadata": {},
   "source": [
    "We start by importing the numpy package as np.\n",
    "We then create a shortcut for the random generator and call it rng."
   ]
  },
  {
   "cell_type": "code",
   "execution_count": 1,
   "metadata": {},
   "outputs": [],
   "source": [
    "import numpy as np\n",
    "rng = np.random.default_rng()"
   ]
  },
  {
   "cell_type": "markdown",
   "metadata": {},
   "source": [
    "Once this is complete we start by investigating the Integer command, in numpy simple random data.\n",
    "We run a simple process where we ask for any integer from the base of zero up to but not including the value of ten."
   ]
  },
  {
   "cell_type": "code",
   "execution_count": 2,
   "metadata": {},
   "outputs": [
    {
     "data": {
      "text/plain": [
       "7"
      ]
     },
     "execution_count": 2,
     "metadata": {},
     "output_type": "execute_result"
    }
   ],
   "source": [
    "rng.integers(10)"
   ]
  },
  {
   "cell_type": "markdown",
   "metadata": {},
   "source": [
    "We can confirm the command runs up to but does not include ten if we run the command again but this time we set the limit to one."
   ]
  },
  {
   "cell_type": "code",
   "execution_count": 3,
   "metadata": {},
   "outputs": [
    {
     "data": {
      "text/plain": [
       "0"
      ]
     },
     "execution_count": 3,
     "metadata": {},
     "output_type": "execute_result"
    }
   ],
   "source": [
    "rng.integers(1)"
   ]
  },
  {
   "cell_type": "markdown",
   "metadata": {},
   "source": [
    "The output can only be zero and this confirms the limit is not included in the array of possible integers that are generated.\n",
    "The command will always take the number given as the maximum value not allowed and use zero as the min unless otherwise asked.\n"
   ]
  },
  {
   "cell_type": "markdown",
   "metadata": {},
   "source": [
    "We now move on to ask for an array of numbers, this is done by adding the \"size\" parameter.\n",
    "I will demonstrate how this works first with only a given \"high\" value, and then in a range by adding in a \"low\" value."
   ]
  },
  {
   "cell_type": "code",
   "execution_count": 4,
   "metadata": {},
   "outputs": [
    {
     "data": {
      "text/plain": [
       "array([6, 7, 5, 6, 0, 0, 8, 4, 2, 5], dtype=int64)"
      ]
     },
     "execution_count": 4,
     "metadata": {},
     "output_type": "execute_result"
    }
   ],
   "source": [
    "rng.integers(10, size=10)"
   ]
  },
  {
   "cell_type": "code",
   "execution_count": 5,
   "metadata": {},
   "outputs": [
    {
     "data": {
      "text/plain": [
       "array([10, 15, 17, 11, 15, 14, 18, 14, 19, 19], dtype=int64)"
      ]
     },
     "execution_count": 5,
     "metadata": {},
     "output_type": "execute_result"
    }
   ],
   "source": [
    "rng.integers(10, 20, size=10)"
   ]
  },
  {
   "cell_type": "markdown",
   "metadata": {},
   "source": [
    "We can see that none of the data from the first set has or will ever be repeated in the second set, as the first set of integers is generated using the parameters of any whole number between 0 and 9, while the second set of data has to be generated from numbers between 10 and 19.\n",
    "The high and low values can be named as such however the command will run without the names being given also."
   ]
  },
  {
   "cell_type": "markdown",
   "metadata": {},
   "source": [
    "We can now move on to how the data can be generated in different shapes.\n",
    "We can do this by adding another value to the size parameter."
   ]
  },
  {
   "cell_type": "code",
   "execution_count": 6,
   "metadata": {},
   "outputs": [
    {
     "data": {
      "text/plain": [
       "array([[6, 0, 9, 6, 4],\n",
       "       [7, 0, 6, 0, 9],\n",
       "       [6, 3, 1, 4, 2],\n",
       "       [4, 0, 6, 7, 5]], dtype=int64)"
      ]
     },
     "execution_count": 6,
     "metadata": {},
     "output_type": "execute_result"
    }
   ],
   "source": [
    "rng.integers(10, size=(4,5))"
   ]
  },
  {
   "cell_type": "markdown",
   "metadata": {},
   "source": [
    "This returns us a grid with random integers up to the value of 10, in a four down five accross array."
   ]
  },
  {
   "cell_type": "markdown",
   "metadata": {},
   "source": [
    "We can also generate different numbers with different upper or lower limits. This is done by adding a chain of values in a square bracket either before or after a given value to signify the low or high values; as shown below."
   ]
  },
  {
   "cell_type": "code",
   "execution_count": 7,
   "metadata": {},
   "outputs": [
    {
     "data": {
      "text/plain": [
       "array([ 4,  4, 10], dtype=int64)"
      ]
     },
     "execution_count": 7,
     "metadata": {},
     "output_type": "execute_result"
    }
   ],
   "source": [
    "rng.integers(2, [5, 10, 15])"
   ]
  },
  {
   "cell_type": "code",
   "execution_count": 8,
   "metadata": {},
   "outputs": [
    {
     "data": {
      "text/plain": [
       "array([ 7, 16, 19], dtype=int64)"
      ]
     },
     "execution_count": 8,
     "metadata": {},
     "output_type": "execute_result"
    }
   ],
   "source": [
    "rng.integers([5, 10, 15], 20)"
   ]
  },
  {
   "cell_type": "markdown",
   "metadata": {},
   "source": [
    "Now that we've seen the basic actions possible we can explore how we can use this command to generate adn visualise large amounts of data."
   ]
  },
  {
   "cell_type": "code",
   "execution_count": 9,
   "metadata": {},
   "outputs": [],
   "source": [
    "import matplotlib.pyplot as plt"
   ]
  },
  {
   "cell_type": "markdown",
   "metadata": {},
   "source": [
    "We import matplotlib to generate visuals of the data."
   ]
  },
  {
   "cell_type": "code",
   "execution_count": 10,
   "metadata": {},
   "outputs": [
    {
     "data": {
      "text/plain": [
       "array([737, 256,  37, ..., 763, 430, 225], dtype=int64)"
      ]
     },
     "execution_count": 10,
     "metadata": {},
     "output_type": "execute_result"
    }
   ],
   "source": [
    "rng.integers(0, 1000, size=10000)"
   ]
  },
  {
   "cell_type": "markdown",
   "metadata": {},
   "source": [
    "When we try to generate a large amount of data, 10000 values, we get the above result. Not that we really want to look through all 10000 values, but if we plot it, it is possible to get a general view of the random numbers generated."
   ]
  },
  {
   "cell_type": "code",
   "execution_count": 11,
   "metadata": {},
   "outputs": [
    {
     "data": {
      "text/plain": [
       "(array([ 998249., 1000514., 1001192.,  998863., 1001012.,  999327.,\n",
       "        1001125.,  999470., 1000778.,  999470.]),\n",
       " array([  0. ,  99.9, 199.8, 299.7, 399.6, 499.5, 599.4, 699.3, 799.2,\n",
       "        899.1, 999. ]),\n",
       " <a list of 10 Patch objects>)"
      ]
     },
     "execution_count": 11,
     "metadata": {},
     "output_type": "execute_result"
    },
    {
     "data": {
      "image/png": "[encoded data removed]",
      "text/plain": [
       "<Figure size 432x288 with 1 Axes>"
      ]
     },
     "metadata": {
      "needs_background": "light"
     },
     "output_type": "display_data"
    }
   ],
   "source": [
    "x = rng.integers(0, 1000, size=10000000)\n",
    "plt.hist(x)"
   ]
  },
  {
   "cell_type": "markdown",
   "metadata": {},
   "source": [
    "We've now generated a range from 0 to 1000, with 10 million values in it. These values form almost a perfecr square in the graph, showing that althought the values generated are random they will all fall eventually begin to evenly fall into each of the automatically generated 10 bins."
   ]
  },
  {
   "cell_type": "markdown",
   "metadata": {},
   "source": [
    "The rng.integer command is handy if we need to generate a data set with a few or many many thousands of whole numbers that can easily be used to graph for data analysis, however, what if we don't want the numbers to be whole?"
   ]
  },
  {
   "cell_type": "markdown",
   "metadata": {},
   "source": [
    "This is where the next function for simple random data comes in to play, the rng.random command."
   ]
  },
  {
   "cell_type": "markdown",
   "metadata": {},
   "source": [
    "I won't go through all the basics again as I have with the above command, but I will show that when give the command the same problem of picking a number between zero and one as we did above, with one being the highest and therefore excluded, the result that is given."
   ]
  },
  {
   "cell_type": "code",
   "execution_count": 12,
   "metadata": {},
   "outputs": [
    {
     "data": {
      "text/plain": [
       "0.6400297653953775"
      ]
     },
     "execution_count": 12,
     "metadata": {},
     "output_type": "execute_result"
    }
   ],
   "source": [
    "rng.random()"
   ]
  },
  {
   "cell_type": "markdown",
   "metadata": {},
   "source": [
    "This time instead of an integer we get a rational number, or a decimal. Thus, the key difference between the two commands.\n"
   ]
  },
  {
   "cell_type": "markdown",
   "metadata": {},
   "source": [
    "Again we can ask for several random numbers to be generated by altering the size paramter. These numbers will all fall between the values of zero and one unless otherwise stated. We can also create tuples as shown in rng.integers. below;"
   ]
  },
  {
   "cell_type": "code",
   "execution_count": 13,
   "metadata": {},
   "outputs": [
    {
     "data": {
      "text/plain": [
       "array([0.0745798 , 0.6493023 , 0.14805145, 0.48184034, 0.29577605,\n",
       "       0.80132741, 0.02803899, 0.91291271, 0.6742108 , 0.33542759])"
      ]
     },
     "execution_count": 13,
     "metadata": {},
     "output_type": "execute_result"
    }
   ],
   "source": [
    "rng.random(10)"
   ]
  },
  {
   "cell_type": "code",
   "execution_count": 14,
   "metadata": {},
   "outputs": [
    {
     "data": {
      "text/plain": [
       "array([[0.66444907, 0.86725063, 0.84238179, 0.09724376],\n",
       "       [0.85671898, 0.43505752, 0.04184788, 0.20798007]])"
      ]
     },
     "execution_count": 14,
     "metadata": {},
     "output_type": "execute_result"
    }
   ],
   "source": [
    "rng.random((2, 4))"
   ]
  },
  {
   "cell_type": "markdown",
   "metadata": {},
   "source": [
    "The reuslts will always be floating numbers from zero to one unless we multiply the command and give it a range. This is done using the formula (b-a) * random() + a. [3]"
   ]
  },
  {
   "cell_type": "markdown",
   "metadata": {},
   "source": [
    "I will now use it to generate and graph data as previously shown in the integers section;"
   ]
  },
  {
   "cell_type": "code",
   "execution_count": 15,
   "metadata": {},
   "outputs": [
    {
     "data": {
      "text/plain": [
       "(array([ 998255., 1001516.,  999092.,  998880.,  999338., 1001187.,\n",
       "        1000723.,  998899., 1003139.,  998971.]),\n",
       " array([4.56394080e-08, 1.00000035e-01, 2.00000025e-01, 3.00000014e-01,\n",
       "        4.00000004e-01, 4.99999993e-01, 5.99999982e-01, 6.99999972e-01,\n",
       "        7.99999961e-01, 8.99999951e-01, 9.99999940e-01]),\n",
       " <a list of 10 Patch objects>)"
      ]
     },
     "execution_count": 15,
     "metadata": {},
     "output_type": "execute_result"
    },
    {
     "data": {
      "image/png": "[encoded data removed]",
      "text/plain": [
       "<Figure size 432x288 with 1 Axes>"
      ]
     },
     "metadata": {
      "needs_background": "light"
     },
     "output_type": "display_data"
    }
   ],
   "source": [
    "x = rng.random(10000000)\n",
    "plt.hist(x)"
   ]
  },
  {
   "cell_type": "markdown",
   "metadata": {},
   "source": [
    "Again, as above, we get almost a perfect square of values when we plot 10 million of them, except this time if we look at the bottom the range is from zero to one. We could of course have done this above by changing the range on the integer command, I'm just stressing how this is the norm for the random command."
   ]
  },
  {
   "cell_type": "markdown",
   "metadata": {},
   "source": [
    "The two commands for generating simple random data are quite similar in that they both allow the user to generate both small and vast amounts of random data to use in their statistical analyses. We will now move onto the next simple random data command that is choice."
   ]
  },
  {
   "cell_type": "markdown",
   "metadata": {},
   "source": [
    "Choice works differently to the other two in that we have deal with previously. Choice adds in the concept of probabilities, where we can alter or change the odds or certain results. We can change the probabilities of results by altering the \"P\" value, but, the P value also has to have the same amount of probabilities as the A value (A can be a value or as in the case shown below an array of values), and must always equal one. Example below;"
   ]
  },
  {
   "cell_type": "code",
   "execution_count": 16,
   "metadata": {},
   "outputs": [
    {
     "data": {
      "text/plain": [
       "(array([500566.,      0.,      0.,      0.,      0.,      0.,      0.,\n",
       "             0.,      0., 499434.]),\n",
       " array([1. , 1.1, 1.2, 1.3, 1.4, 1.5, 1.6, 1.7, 1.8, 1.9, 2. ]),\n",
       " <a list of 10 Patch objects>)"
      ]
     },
     "execution_count": 16,
     "metadata": {},
     "output_type": "execute_result"
    },
    {
     "data": {
      "image/png": "[encoded data removed]",
      "text/plain": [
       "<Figure size 432x288 with 1 Axes>"
      ]
     },
     "metadata": {
      "needs_background": "light"
     },
     "output_type": "display_data"
    }
   ],
   "source": [
    "coin = np.arange(start = 1, stop = 3)\n",
    "x = rng.choice(a = coin, size=1000000, p=[0.5, 0.5])\n",
    "plt.hist(x)"
   ]
  },
  {
   "cell_type": "markdown",
   "metadata": {},
   "source": [
    "Here I have generated a simple process to graphically show the results when tossing a fair coin, the odds are exactly 50/50 for whether we get a heads or a tails, and I've installed a large enough sample (size of 1000000) to show that their are no biases to either result."
   ]
  },
  {
   "cell_type": "markdown",
   "metadata": {},
   "source": [
    "Now let us see what happens when we alter the odds in favour of one result to the other."
   ]
  },
  {
   "cell_type": "code",
   "execution_count": 17,
   "metadata": {},
   "outputs": [
    {
     "data": {
      "text/plain": [
       "(array([749537.,      0.,      0.,      0.,      0.,      0.,      0.,\n",
       "             0.,      0., 250463.]),\n",
       " array([1. , 1.1, 1.2, 1.3, 1.4, 1.5, 1.6, 1.7, 1.8, 1.9, 2. ]),\n",
       " <a list of 10 Patch objects>)"
      ]
     },
     "execution_count": 17,
     "metadata": {},
     "output_type": "execute_result"
    },
    {
     "data": {
      "image/png": "[encoded data removed]",
      "text/plain": [
       "<Figure size 432x288 with 1 Axes>"
      ]
     },
     "metadata": {
      "needs_background": "light"
     },
     "output_type": "display_data"
    }
   ],
   "source": [
    "coin = np.arange(start = 1, stop = 3)\n",
    "x = rng.choice(a = coin, size=1000000, p=[0.75, 0.25])\n",
    "plt.hist(x)"
   ]
  },
  {
   "cell_type": "markdown",
   "metadata": {},
   "source": [
    "For sake of arguement we'll call one heads, and say that now as I've altered the probabilities to 0.75 and 0.25 respectively, that we should see heads 75% of the time which we do from the graph. This is the main difference between the prior two simple random data generators and the choice function, we can alter the probability of any given result to what is necessary. This makes the choice option good for say the odds you get an ace from randomly selecting a card from a deck or what side a dice will land on. [4]"
   ]
  },
  {
   "cell_type": "markdown",
   "metadata": {},
   "source": [
    "Now that we have covered simple random data generators we shall move onto the permutation functions in numpy. There are two different Permutation functions in the numpy package, the first being shuffle and then there is permutation. Shuffle works as such;"
   ]
  },
  {
   "cell_type": "markdown",
   "metadata": {},
   "source": [
    "The shuffle function only has two parameters, x and axis, with x being the array of values and the axix, which is optional, which the position of the values can be altered using."
   ]
  },
  {
   "cell_type": "code",
   "execution_count": 18,
   "metadata": {},
   "outputs": [
    {
     "ename": "TypeError",
     "evalue": "object of type 'int' has no len()",
     "output_type": "error",
     "traceback": [
      "\u001b[1;31m---------------------------------------------------------------------------\u001b[0m",
      "\u001b[1;31mTypeError\u001b[0m                                 Traceback (most recent call last)",
      "\u001b[1;32m<ipython-input-18-a2815d53874a>\u001b[0m in \u001b[0;36m<module>\u001b[1;34m\u001b[0m\n\u001b[1;32m----> 1\u001b[1;33m \u001b[0mrng\u001b[0m\u001b[1;33m.\u001b[0m\u001b[0mshuffle\u001b[0m\u001b[1;33m(\u001b[0m\u001b[1;36m10\u001b[0m\u001b[1;33m)\u001b[0m\u001b[1;33m\u001b[0m\u001b[1;33m\u001b[0m\u001b[0m\n\u001b[0m",
      "\u001b[1;32m_generator.pyx\u001b[0m in \u001b[0;36mnumpy.random._generator.Generator.shuffle\u001b[1;34m()\u001b[0m\n",
      "\u001b[1;31mTypeError\u001b[0m: object of type 'int' has no len()"
     ]
    }
   ],
   "source": [
    "rng.shuffle(10)"
   ]
  },
  {
   "cell_type": "markdown",
   "metadata": {},
   "source": [
    "We see from running the command with only an integer it returns an error, because of this we will use a range of values denoted as \"ar\""
   ]
  },
  {
   "cell_type": "code",
   "execution_count": null,
   "metadata": {},
   "outputs": [],
   "source": [
    "ar = np.arange(10)\n",
    "rng.shuffle(ar)\n",
    "ar"
   ]
  },
  {
   "cell_type": "code",
   "execution_count": null,
   "metadata": {},
   "outputs": [],
   "source": [
    "ar = np.arange(12).reshape((3,4))\n",
    "rng.shuffle(ar)\n",
    "ar"
   ]
  },
  {
   "cell_type": "code",
   "execution_count": null,
   "metadata": {},
   "outputs": [],
   "source": [
    "ar = np.arange(12).reshape((3, 4))\n",
    "rng.shuffle(ar, axis=1)\n",
    "ar"
   ]
  },
  {
   "cell_type": "markdown",
   "metadata": {},
   "source": [
    "From the couple of examples above we see that shuffle, shuffles multidimensional arrays by row only, keeping the column order unchanged. [5]"
   ]
  },
  {
   "cell_type": "code",
   "execution_count": null,
   "metadata": {},
   "outputs": [],
   "source": [
    "rng.permutation(10)"
   ]
  },
  {
   "cell_type": "markdown",
   "metadata": {},
   "source": [
    "This time when we run the command with an integer it gives us a range of values in a random order."
   ]
  },
  {
   "cell_type": "code",
   "execution_count": null,
   "metadata": {},
   "outputs": [],
   "source": [
    "rng.permutation(ar)"
   ]
  },
  {
   "cell_type": "code",
   "execution_count": null,
   "metadata": {},
   "outputs": [],
   "source": [
    "rng.permutation(ar, axis=1)"
   ]
  },
  {
   "cell_type": "markdown",
   "metadata": {},
   "source": [
    "The shuffle and parameter commands perform the same actions when asked to handle the date \"ar\", however, as shown above, when given an integer permutation is able to return a range of the values in a random order. [6]"
   ]
  },
  {
   "cell_type": "markdown",
   "metadata": {},
   "source": [
    "The simple random data functions are capable of creating data wheteher in large or small quantities that can then be used for any function of data analysis. The permutation functions are better suited to taking data we already have generated and then ordering and shuffling that data to analyse."
   ]
  },
  {
   "cell_type": "markdown",
   "metadata": {},
   "source": [
    "## 3. Explanation of the use and purpose of five “Distributions” functions."
   ]
  },
  {
   "cell_type": "code",
   "execution_count": null,
   "metadata": {},
   "outputs": [],
   "source": []
  },
  {
   "cell_type": "code",
   "execution_count": null,
   "metadata": {},
   "outputs": [],
   "source": []
  },
  {
   "cell_type": "code",
   "execution_count": null,
   "metadata": {},
   "outputs": [],
   "source": []
  },
  {
   "cell_type": "markdown",
   "metadata": {},
   "source": [
    "## 4. Explanation of the use of seeds in generating pseudorandom numbers."
   ]
  },
  {
   "cell_type": "markdown",
   "metadata": {},
   "source": [
    "Above we've discussed why random numbers are generated and through what mechanisms the data is distributed but how is the random data actually generated? A random seed specifies the start point when a computer generates a random number sequence. This can be any number, but it usually comes from seconds on a computer system’s clock. [6] We will limit this discussion to the two ways that numpy generates random numbers, the old version, The Mersenne Twister pseudo-random number generator, and the new version, PCG-64 pseudo-random number generator. "
   ]
  },
  {
   "cell_type": "markdown",
   "metadata": {},
   "source": [
    "The Mersenne Twister method was developed in 1997 by Makoto Matsumoto and Takuji Nishimura. At the time it was the most sophisticated method for generating random number sequences ever created. This new algorithm provided a period of 2^19937-1, a period being the amount of time before a sequence of numbers was repeated. [7]"
   ]
  },
  {
   "cell_type": "markdown",
   "metadata": {},
   "source": [
    "The Mersenne Twister method worked by using Merenne primes in the form 2^p - 1 where p itself is prime. The Mersenne Twister has p equal to 19937. The integer portion of the Mersenne twister algorithm does not involve any addition, subtraction, multiplication or division, all the operations are shifts, and's, or's, and xor's. All the elements of the state, except the last, are unsigned 32-bit random integers that form a cache which is carefully generated upon start-up. This generation is triggered by a seed, a single integer that initiates the whole process. The last element of the state is a pointer into the cache. Each request for a random integer causes an element to be withdrawn from the cache and the pointer incremented. The element is \"tempered\" with additional logical operations to improve the randomness. When the pointer reaches the end of the cache, the cache is refilled with another 623 elements. The parameters have been chosen so that the period is the Mersenne prime 2^19937-1. This period is much longer than any other random number generator proposed before. [8]"
   ]
  },
  {
   "cell_type": "markdown",
   "metadata": {},
   "source": [
    "However, over 20 years have passed since its inception and several deficiencies have become apparent, one being how predictable the method is, after 624 outputs, it is possible to completely predict its output.\n",
    "Another drawback is the amount of memory necessary to run the method, 2504 bytes of RAM — in contrast, an extremely usable generator with a huger than anyone can ever use period can fit in 8 bytes of RAM.\n",
    "Finally, to modern standards it is not considered particularly fast. [9]\n",
    "These shortcomings have led to newer methods replacing the Mersenne Twister as industry norms."
   ]
  },
  {
   "cell_type": "markdown",
   "metadata": {},
   "source": [
    "PCG-64 (Permuted congruential generator) was developed in 2014 by Melissa O'Neill, its characteristics are that it achieves excellent statistical performance with small and fast code, and small state size. [10] THis algorithm works off a period of 2^128"
   ]
  },
  {
   "cell_type": "markdown",
   "metadata": {},
   "source": [
    "Most RNGs use a very simple output functionwhere they just return the state as is, making them easily predictable. Some RNGs combine multiple simple RNGs and thus have an output function that just merges them together (e.g., with addition or xor). Again, this is a very simple output function that can be predicted.\n",
    "The PCG family uses a linear congruential generator as the state transition function. Linear congruential generators are known to be statistically weak, but PCG's state transition function only does half the work. Moreover, LCGs have number of very useful properties that make them a good choice.\n",
    "The second half of the work uses a new technique called permutation functions on tuples to produce output that is much more random than the RNG's internal state. PCG's output functions are what gives it its excellent statistical performance and makes it hard predict from its output and much more secure. [11]"
   ]
  },
  {
   "cell_type": "markdown",
   "metadata": {},
   "source": [
    "Seeds are then used by both these programmes to select where the random data will be generated, and this is how they differ with regard their ranges. The starting point can be randomly assigned by just hitting start or we can choose to have repeatable random data by selecting a given seed by stating what number we want to start the random number generator on. If we want to re-run the data futher on in the code we merely repeat the seed number and we will be given the same random data."
   ]
  },
  {
   "cell_type": "markdown",
   "metadata": {},
   "source": [
    "When we compare PCG-64 against other market leadering RNGs we learn that it is only the PCG class that passes the pratically random and U1 tests, while also having a relatively quick process speed. Thus, we can state with relative certainty of its superiority to the previously mentioned Merenne Twister method. In that it is not easily predicatble and can generate much more \"random\" number sequences. [12] The advantages of using the PCG-64 over the previously used Merenne Twister method make it clear as to why NUmpy replaced the older method in favour of a much more sophisticated model for generating random numbers."
   ]
  },
  {
   "cell_type": "markdown",
   "metadata": {},
   "source": [
    "[1] https://docs.microsoft.com/en-us/windows/win32/api/wincrypt/nf-wincrypt-cryptgenrandom?redirectedfrom=MSDN\n",
    "\n",
    "[2] https://realpython.com/python-random/\n",
    "\n",
    "[3] https://numpy.org/doc/stable/reference/random/generated/numpy.random.Generator.random.html#numpy.random.Generator.random\n",
    "\n",
    "[4] https://www.sharpsightlabs.com/blog/numpy-random-choice/\n",
    "\n",
    "[5] https://moonbooks.org/Articles/How-to-randomly-shuffle-an-array-in-python-using-numpy/\n",
    "\n",
    "[6] https://stackoverflow.com/questions/15474159/shuffle-vs-permute-numpy#:~:text=shuffle(x)%20can%20permute%20the,numpy.&text=permutation(x)%20actually%20returns%20a,original%20data%20is%20not%20changed.\n",
    "\n",
    "[6] https://www.statisticshowto.com/random-seed-definition/#:~:text=A%20random%20seed%20is%20a,Henkemans%20%26%20Lee%2C%202001\n",
    "\n",
    "[7] http://www.math.sci.hiroshima-u.ac.jp/m-mat/MT/ARTICLES/mt.pdf\n",
    "\n",
    "[8] https://blogs.mathworks.com/cleve/2015/04/17/random-number-generator-mersenne-twister/\n",
    "\n",
    "[9] https://www.pcg-random.org/other-rngs.html\n",
    "\n",
    "[10] https://www.pcg-random.org/pdf/hmc-cs-2014-0905.pdf\n",
    "\n",
    "[11] https://www.pcg-random.org/index.html\n",
    "\n",
    "[12] https://lemire.me/blog/2017/08/22/testing-non-cryptographic-random-number-generators-my-results/"
   ]
  }
 ],
 "metadata": {
  "kernelspec": {
   "display_name": "Python 3",
   "language": "python",
   "name": "python3"
  },
  "language_info": {
   "codemirror_mode": {
    "name": "ipython",
    "version": 3
   },
   "file_extension": ".py",
   "mimetype": "text/x-python",
   "name": "python",
   "nbconvert_exporter": "python",
   "pygments_lexer": "ipython3",
   "version": "3.8.3"
  }
 },
 "nbformat": 4,
 "nbformat_minor": 4
}
